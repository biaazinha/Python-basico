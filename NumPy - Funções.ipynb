{
 "cells": [
  {
   "cell_type": "markdown",
   "id": "6c8a76c4",
   "metadata": {},
   "source": [
    "# NumPy - Funções"
   ]
  },
  {
   "cell_type": "code",
   "execution_count": 2,
   "id": "3dc8c487",
   "metadata": {},
   "outputs": [],
   "source": [
    "# Importando o NumPy\n",
    "import numpy as numpy"
   ]
  },
  {
   "cell_type": "code",
   "execution_count": 3,
   "id": "00380294",
   "metadata": {},
   "outputs": [],
   "source": [
    "# A função np.array() cria um array NumPy\n",
    "arr2 = numpy.array([1, 2, 3, 4, 5])"
   ]
  },
  {
   "cell_type": "code",
   "execution_count": 4,
   "id": "2f47935c",
   "metadata": {},
   "outputs": [
    {
     "name": "stdout",
     "output_type": "stream",
     "text": [
      "[1 2 3 4 5]\n"
     ]
    }
   ],
   "source": [
    "print(arr2)"
   ]
  },
  {
   "cell_type": "code",
   "execution_count": 5,
   "id": "379f47ba",
   "metadata": {},
   "outputs": [
    {
     "data": {
      "text/plain": [
       "numpy.ndarray"
      ]
     },
     "execution_count": 5,
     "metadata": {},
     "output_type": "execute_result"
    }
   ],
   "source": [
    "# Verificando o tipe do objeto\n",
    "type(arr2)"
   ]
  },
  {
   "cell_type": "code",
   "execution_count": null,
   "id": "1372efa0",
   "metadata": {},
   "outputs": [],
   "source": [
    "# Digite . e pressione a tecla Tab para ver os MÉTODOS disponíveis em objetos NumPy\n",
    "arr2."
   ]
  },
  {
   "cell_type": "code",
   "execution_count": 6,
   "id": "00954ab4",
   "metadata": {},
   "outputs": [
    {
     "data": {
      "text/plain": [
       "array([  1,   2,   6,  24, 120])"
      ]
     },
     "execution_count": 6,
     "metadata": {},
     "output_type": "execute_result"
    }
   ],
   "source": [
    "# Usando métodos do array NumPy\n",
    "arr2.cumprod() # Produto acumulado "
   ]
  },
  {
   "cell_type": "code",
   "execution_count": null,
   "id": "2165a747",
   "metadata": {},
   "outputs": [],
   "source": [
    "# Digite . e pressione a tecla Tab para ver as FUNÇÕES disponíveis em objetos NumPy\n",
    "numpy"
   ]
  },
  {
   "cell_type": "code",
   "execution_count": 9,
   "id": "18d00daa",
   "metadata": {},
   "outputs": [],
   "source": [
    "# A função arange cria um array NumPy contendo uma progressão aritmética a partir de um intervalo - start, stop, step\n",
    "arr3 = numpy.arange(0, 50, 5) # Começa por 0, termina com 50, pula de 5 em 5"
   ]
  },
  {
   "cell_type": "code",
   "execution_count": 10,
   "id": "337358a6",
   "metadata": {},
   "outputs": [
    {
     "name": "stdout",
     "output_type": "stream",
     "text": [
      "[ 0  5 10 15 20 25 30 35 40 45]\n"
     ]
    }
   ],
   "source": [
    "print(arr3)"
   ]
  },
  {
   "cell_type": "code",
   "execution_count": 11,
   "id": "7dd0a008",
   "metadata": {},
   "outputs": [
    {
     "data": {
      "text/plain": [
       "numpy.ndarray"
      ]
     },
     "execution_count": 11,
     "metadata": {},
     "output_type": "execute_result"
    }
   ],
   "source": [
    "# Verificando o tipo do objeto \n",
    "type(arr3)"
   ]
  },
  {
   "cell_type": "code",
   "execution_count": 13,
   "id": "4061bfde",
   "metadata": {},
   "outputs": [
    {
     "data": {
      "text/plain": [
       "(10,)"
      ]
     },
     "execution_count": 13,
     "metadata": {},
     "output_type": "execute_result"
    }
   ],
   "source": [
    "# Formato do array \n",
    "numpy.shape(arr3)"
   ]
  },
  {
   "cell_type": "code",
   "execution_count": 14,
   "id": "1b485259",
   "metadata": {},
   "outputs": [
    {
     "name": "stdout",
     "output_type": "stream",
     "text": [
      "int32\n"
     ]
    }
   ],
   "source": [
    "print(arr3.dtype)"
   ]
  },
  {
   "cell_type": "code",
   "execution_count": 15,
   "id": "8149e38e",
   "metadata": {},
   "outputs": [],
   "source": [
    "# Cria um array preenchido por zeros\n",
    "arr4 = numpy.zeros(10)"
   ]
  },
  {
   "cell_type": "code",
   "execution_count": 16,
   "id": "426b15e8",
   "metadata": {},
   "outputs": [
    {
     "name": "stdout",
     "output_type": "stream",
     "text": [
      "[0. 0. 0. 0. 0. 0. 0. 0. 0. 0.]\n"
     ]
    }
   ],
   "source": [
    "print(arr4)"
   ]
  },
  {
   "cell_type": "code",
   "execution_count": 17,
   "id": "40c9f9c5",
   "metadata": {},
   "outputs": [],
   "source": [
    "# Retorna um nas posições em diagonal e zero no restante\n",
    "arr5 = numpy.eye(3)"
   ]
  },
  {
   "cell_type": "code",
   "execution_count": 18,
   "id": "7ff629b3",
   "metadata": {},
   "outputs": [
    {
     "name": "stdout",
     "output_type": "stream",
     "text": [
      "[[1. 0. 0.]\n",
      " [0. 1. 0.]\n",
      " [0. 0. 1.]]\n"
     ]
    }
   ],
   "source": [
    "print(arr5)"
   ]
  },
  {
   "cell_type": "code",
   "execution_count": 19,
   "id": "1b0199c2",
   "metadata": {},
   "outputs": [],
   "source": [
    "# Os valores passados como parametro formam uma diagonal\n",
    "arr6 = numpy.diag(numpy.array(([1, 2, 3, 4])))"
   ]
  },
  {
   "cell_type": "code",
   "execution_count": 20,
   "id": "6dbfda31",
   "metadata": {},
   "outputs": [
    {
     "name": "stdout",
     "output_type": "stream",
     "text": [
      "[[1 0 0 0]\n",
      " [0 2 0 0]\n",
      " [0 0 3 0]\n",
      " [0 0 0 4]]\n"
     ]
    }
   ],
   "source": [
    "print(arr6)"
   ]
  },
  {
   "cell_type": "code",
   "execution_count": 23,
   "id": "d7fb1b37",
   "metadata": {},
   "outputs": [],
   "source": [
    "# Array de valores booleanos\n",
    "arr7 = numpy.array([True, False, False, True])"
   ]
  },
  {
   "cell_type": "code",
   "execution_count": 24,
   "id": "3665e3fe",
   "metadata": {},
   "outputs": [
    {
     "name": "stdout",
     "output_type": "stream",
     "text": [
      "[ True False False  True]\n"
     ]
    }
   ],
   "source": [
    "print(arr7)"
   ]
  },
  {
   "cell_type": "code",
   "execution_count": 25,
   "id": "f196c41d",
   "metadata": {},
   "outputs": [],
   "source": [
    "# Array de strings\n",
    "arr8 = numpy.array(['Python', 'R', 'Power BI'])"
   ]
  },
  {
   "cell_type": "code",
   "execution_count": 26,
   "id": "3dc6e903",
   "metadata": {},
   "outputs": [
    {
     "name": "stdout",
     "output_type": "stream",
     "text": [
      "['Python' 'R' 'Power BI']\n"
     ]
    }
   ],
   "source": [
    "print(arr8)"
   ]
  },
  {
   "cell_type": "markdown",
   "id": "e82665fb",
   "metadata": {},
   "source": [
    "A função linspace é para criar uma sequencia de números igualmente espaçados dentro de um intervalo especificado."
   ]
  },
  {
   "cell_type": "code",
   "execution_count": 27,
   "id": "0bd08654",
   "metadata": {},
   "outputs": [
    {
     "name": "stdout",
     "output_type": "stream",
     "text": [
      "[ 0.          0.20408163  0.40816327  0.6122449   0.81632653  1.02040816\n",
      "  1.2244898   1.42857143  1.63265306  1.83673469  2.04081633  2.24489796\n",
      "  2.44897959  2.65306122  2.85714286  3.06122449  3.26530612  3.46938776\n",
      "  3.67346939  3.87755102  4.08163265  4.28571429  4.48979592  4.69387755\n",
      "  4.89795918  5.10204082  5.30612245  5.51020408  5.71428571  5.91836735\n",
      "  6.12244898  6.32653061  6.53061224  6.73469388  6.93877551  7.14285714\n",
      "  7.34693878  7.55102041  7.75510204  7.95918367  8.16326531  8.36734694\n",
      "  8.57142857  8.7755102   8.97959184  9.18367347  9.3877551   9.59183673\n",
      "  9.79591837 10.        ]\n"
     ]
    }
   ],
   "source": [
    "print(numpy.linspace(0,10))"
   ]
  },
  {
   "cell_type": "code",
   "execution_count": 28,
   "id": "a4ae0a61",
   "metadata": {},
   "outputs": [
    {
     "name": "stdout",
     "output_type": "stream",
     "text": [
      "[ 0.          0.71428571  1.42857143  2.14285714  2.85714286  3.57142857\n",
      "  4.28571429  5.          5.71428571  6.42857143  7.14285714  7.85714286\n",
      "  8.57142857  9.28571429 10.        ]\n"
     ]
    }
   ],
   "source": [
    "print(numpy.linspace(0, 10, 15))"
   ]
  },
  {
   "cell_type": "markdown",
   "id": "250c04a2",
   "metadata": {},
   "source": [
    "A função logspace é para criar uma sequencia de números igualmente espaçados em escala logarítima dentro de um intervalo especificado."
   ]
  },
  {
   "cell_type": "code",
   "execution_count": 29,
   "id": "edc517cd",
   "metadata": {},
   "outputs": [
    {
     "name": "stdout",
     "output_type": "stream",
     "text": [
      "[1.00000000e+00 3.59381366e+00 1.29154967e+01 4.64158883e+01\n",
      " 1.66810054e+02 5.99484250e+02 2.15443469e+03 7.74263683e+03\n",
      " 2.78255940e+04 1.00000000e+05]\n"
     ]
    }
   ],
   "source": [
    "print(numpy.logspace(0, 5, 10))"
   ]
  }
 ],
 "metadata": {
  "kernelspec": {
   "display_name": "Python 3 (ipykernel)",
   "language": "python",
   "name": "python3"
  },
  "language_info": {
   "codemirror_mode": {
    "name": "ipython",
    "version": 3
   },
   "file_extension": ".py",
   "mimetype": "text/x-python",
   "name": "python",
   "nbconvert_exporter": "python",
   "pygments_lexer": "ipython3",
   "version": "3.9.13"
  }
 },
 "nbformat": 4,
 "nbformat_minor": 5
}
