{
 "cells": [
  {
   "cell_type": "markdown",
   "id": "d71217ce",
   "metadata": {},
   "source": [
    "# NumPy - Análise estatística básica"
   ]
  },
  {
   "cell_type": "code",
   "execution_count": 1,
   "id": "dd378d76",
   "metadata": {},
   "outputs": [],
   "source": [
    "# Importando o NumPy\n",
    "import numpy as numpy"
   ]
  },
  {
   "cell_type": "code",
   "execution_count": 3,
   "id": "4c399a1f",
   "metadata": {},
   "outputs": [],
   "source": [
    "# Criando um array\n",
    "arr14 = numpy.array([15, 23, 63, 94, 75])"
   ]
  },
  {
   "cell_type": "markdown",
   "id": "f0bbeccf",
   "metadata": {},
   "source": [
    "MÉDIA = soma todos os valores e divide pela quantidade deles, o valor central de um conjunto de dados."
   ]
  },
  {
   "cell_type": "code",
   "execution_count": 4,
   "id": "46ff69c6",
   "metadata": {},
   "outputs": [
    {
     "data": {
      "text/plain": [
       "54.0"
      ]
     },
     "execution_count": 4,
     "metadata": {},
     "output_type": "execute_result"
    }
   ],
   "source": [
    "# Média\n",
    "numpy.mean(arr14)"
   ]
  },
  {
   "cell_type": "markdown",
   "id": "1f81a3aa",
   "metadata": {},
   "source": [
    "DESVIO PADRÃO = Dispersão que indica o quanto os valores de um conjunto de dados se afastam da média. Calculado como a raíz quadrada da variancia, é útil pois permite avaliar a variabilidade dos dados em torno da média."
   ]
  },
  {
   "cell_type": "code",
   "execution_count": 5,
   "id": "e825cfff",
   "metadata": {},
   "outputs": [
    {
     "data": {
      "text/plain": [
       "30.34468652004828"
      ]
     },
     "execution_count": 5,
     "metadata": {},
     "output_type": "execute_result"
    }
   ],
   "source": [
    "# Desvio Padrão\n",
    "numpy.std(arr14)"
   ]
  },
  {
   "cell_type": "markdown",
   "id": "9d7d451a",
   "metadata": {},
   "source": [
    "VARIÂNCIA = Média que quantifica a dispersão dos valores em um conjunto de dados em relação a média. É calculada como a média dos quadrados das diferenças entre cada valor e a média"
   ]
  },
  {
   "cell_type": "code",
   "execution_count": 6,
   "id": "e7de778c",
   "metadata": {},
   "outputs": [
    {
     "data": {
      "text/plain": [
       "920.8"
      ]
     },
     "execution_count": 6,
     "metadata": {},
     "output_type": "execute_result"
    }
   ],
   "source": [
    "# Variância\n",
    "numpy.var(arr14)"
   ]
  }
 ],
 "metadata": {
  "kernelspec": {
   "display_name": "Python 3 (ipykernel)",
   "language": "python",
   "name": "python3"
  },
  "language_info": {
   "codemirror_mode": {
    "name": "ipython",
    "version": 3
   },
   "file_extension": ".py",
   "mimetype": "text/x-python",
   "name": "python",
   "nbconvert_exporter": "python",
   "pygments_lexer": "ipython3",
   "version": "3.9.13"
  }
 },
 "nbformat": 4,
 "nbformat_minor": 5
}
