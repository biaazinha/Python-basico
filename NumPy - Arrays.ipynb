{
 "cells": [
  {
   "cell_type": "markdown",
   "id": "419f6bd2",
   "metadata": {},
   "source": [
    "# NumPy - Arrays"
   ]
  },
  {
   "cell_type": "markdown",
   "id": "6ef80ce5",
   "metadata": {},
   "source": [
    "https://numpy.org/"
   ]
  },
  {
   "cell_type": "code",
   "execution_count": 1,
   "id": "19239b3a",
   "metadata": {},
   "outputs": [],
   "source": [
    "# Importando o NumPy\n",
    "import numpy as numpy"
   ]
  },
  {
   "cell_type": "code",
   "execution_count": 2,
   "id": "7ed51902",
   "metadata": {},
   "outputs": [
    {
     "data": {
      "text/plain": [
       "'1.21.5'"
      ]
     },
     "execution_count": 2,
     "metadata": {},
     "output_type": "execute_result"
    }
   ],
   "source": [
    "numpy.__version__"
   ]
  },
  {
   "cell_type": "code",
   "execution_count": 6,
   "id": "bb86e916",
   "metadata": {},
   "outputs": [],
   "source": [
    "# Array criado a partir de uma lista Python\n",
    "arr1 = numpy.array([10, 21, 32, 43, 48, 15, 76, 57, 89])"
   ]
  },
  {
   "cell_type": "code",
   "execution_count": 7,
   "id": "1b0f6ab4",
   "metadata": {},
   "outputs": [
    {
     "name": "stdout",
     "output_type": "stream",
     "text": [
      "[10 21 32 43 48 15 76 57 89]\n"
     ]
    }
   ],
   "source": [
    "print(arr1)"
   ]
  },
  {
   "cell_type": "code",
   "execution_count": 8,
   "id": "22a355b3",
   "metadata": {},
   "outputs": [
    {
     "data": {
      "text/plain": [
       "numpy.ndarray"
      ]
     },
     "execution_count": 8,
     "metadata": {},
     "output_type": "execute_result"
    }
   ],
   "source": [
    "# Um objeto do tipo ndarray é um recipiente multidimensional de itens do mesmo tipo e tamanho\n",
    "type(arr1)"
   ]
  },
  {
   "cell_type": "code",
   "execution_count": 9,
   "id": "cdf4e64f",
   "metadata": {},
   "outputs": [
    {
     "data": {
      "text/plain": [
       "(9,)"
      ]
     },
     "execution_count": 9,
     "metadata": {},
     "output_type": "execute_result"
    }
   ],
   "source": [
    "# Verificando o formato do array\n",
    "arr1.shape"
   ]
  },
  {
   "cell_type": "code",
   "execution_count": 10,
   "id": "9213d645",
   "metadata": {},
   "outputs": [],
   "source": [
    "# 1D Array = (4,)\n",
    "# 2D Array = (4, 6)\n",
    "# 3D Array = (4, 3, 5)"
   ]
  },
  {
   "cell_type": "markdown",
   "id": "85197916",
   "metadata": {},
   "source": [
    "Um array NumPy é uma estrutura de dados multidimensional que fornece um objeto de matriz N-dimensional (ndarray)"
   ]
  },
  {
   "cell_type": "markdown",
   "id": "bb620c6e",
   "metadata": {},
   "source": [
    "# Indexação"
   ]
  },
  {
   "cell_type": "code",
   "execution_count": 16,
   "id": "46b0a233",
   "metadata": {},
   "outputs": [
    {
     "name": "stdout",
     "output_type": "stream",
     "text": [
      "[10 21 32 43 48 15 76 57 89]\n"
     ]
    }
   ],
   "source": [
    "print(arr1)"
   ]
  },
  {
   "cell_type": "code",
   "execution_count": 11,
   "id": "4896dbdd",
   "metadata": {},
   "outputs": [
    {
     "data": {
      "text/plain": [
       "48"
      ]
     },
     "execution_count": 11,
     "metadata": {},
     "output_type": "execute_result"
    }
   ],
   "source": [
    "# Imprimindo um elemento específico no array\n",
    "arr1[4]"
   ]
  },
  {
   "cell_type": "code",
   "execution_count": 12,
   "id": "a7d51a87",
   "metadata": {},
   "outputs": [
    {
     "data": {
      "text/plain": [
       "array([21, 32, 43])"
      ]
     },
     "execution_count": 12,
     "metadata": {},
     "output_type": "execute_result"
    }
   ],
   "source": [
    "# Indexação (o último valor é exclusivo)\n",
    "arr1[1:4]"
   ]
  },
  {
   "cell_type": "code",
   "execution_count": 13,
   "id": "848ebf89",
   "metadata": {},
   "outputs": [
    {
     "data": {
      "text/plain": [
       "array([21, 32, 43, 48])"
      ]
     },
     "execution_count": 13,
     "metadata": {},
     "output_type": "execute_result"
    }
   ],
   "source": [
    "# Indexação\n",
    "arr1[1:4+1]"
   ]
  },
  {
   "cell_type": "code",
   "execution_count": 14,
   "id": "392661c8",
   "metadata": {},
   "outputs": [],
   "source": [
    "# Cria uma lista de índices\n",
    "indices = [1, 2, 5, 6]"
   ]
  },
  {
   "cell_type": "code",
   "execution_count": 15,
   "id": "4946791f",
   "metadata": {},
   "outputs": [
    {
     "data": {
      "text/plain": [
       "array([21, 32, 15, 76])"
      ]
     },
     "execution_count": 15,
     "metadata": {},
     "output_type": "execute_result"
    }
   ],
   "source": [
    "# Imprimindo os elementos dos índices\n",
    "arr1[indices]"
   ]
  },
  {
   "cell_type": "code",
   "execution_count": 17,
   "id": "01c20f5a",
   "metadata": {},
   "outputs": [],
   "source": [
    "# Cria uma máscara booleana (padrão) para os elementos pares\n",
    "mask = (arr1 % 2 == 0)"
   ]
  },
  {
   "cell_type": "code",
   "execution_count": 21,
   "id": "0ca6bf26",
   "metadata": {},
   "outputs": [
    {
     "data": {
      "text/plain": [
       "array([ True, False,  True, False,  True, False,  True, False, False])"
      ]
     },
     "execution_count": 21,
     "metadata": {},
     "output_type": "execute_result"
    }
   ],
   "source": [
    "mask"
   ]
  },
  {
   "cell_type": "code",
   "execution_count": 18,
   "id": "fa44145c",
   "metadata": {},
   "outputs": [
    {
     "data": {
      "text/plain": [
       "array([10, 32, 48, 76])"
      ]
     },
     "execution_count": 18,
     "metadata": {},
     "output_type": "execute_result"
    }
   ],
   "source": [
    "arr1[mask]"
   ]
  },
  {
   "cell_type": "code",
   "execution_count": 19,
   "id": "1010763e",
   "metadata": {},
   "outputs": [],
   "source": [
    "# Alterando um elemento do array\n",
    "arr1[0] = 100"
   ]
  },
  {
   "cell_type": "code",
   "execution_count": 20,
   "id": "4966c517",
   "metadata": {},
   "outputs": [
    {
     "name": "stdout",
     "output_type": "stream",
     "text": [
      "[100  21  32  43  48  15  76  57  89]\n"
     ]
    }
   ],
   "source": [
    "print(arr1)"
   ]
  },
  {
   "cell_type": "code",
   "execution_count": 22,
   "id": "755d64f4",
   "metadata": {},
   "outputs": [
    {
     "name": "stdout",
     "output_type": "stream",
     "text": [
      "Operação não permitida\n"
     ]
    }
   ],
   "source": [
    "# Não é possível incluir elemento de outro tipo\n",
    "try:\n",
    "    arr1[0] = 'Novo elemento'\n",
    "except:\n",
    "    print(\"Operação não permitida\")"
   ]
  }
 ],
 "metadata": {
  "kernelspec": {
   "display_name": "Python 3 (ipykernel)",
   "language": "python",
   "name": "python3"
  },
  "language_info": {
   "codemirror_mode": {
    "name": "ipython",
    "version": 3
   },
   "file_extension": ".py",
   "mimetype": "text/x-python",
   "name": "python",
   "nbconvert_exporter": "python",
   "pygments_lexer": "ipython3",
   "version": "3.9.13"
  }
 },
 "nbformat": 4,
 "nbformat_minor": 5
}
