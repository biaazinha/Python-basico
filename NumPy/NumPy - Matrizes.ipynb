{
 "cells": [
  {
   "cell_type": "markdown",
   "id": "96547e9d",
   "metadata": {},
   "source": [
    "# NumPy - Matrizes"
   ]
  },
  {
   "cell_type": "code",
   "execution_count": 7,
   "id": "b7b43286",
   "metadata": {},
   "outputs": [],
   "source": [
    "# Importando o NumPy\n",
    "import numpy as numpy"
   ]
  },
  {
   "cell_type": "code",
   "execution_count": 8,
   "id": "54df2300",
   "metadata": {},
   "outputs": [],
   "source": [
    "# Criando uma matriz \n",
    "arr9 = numpy.array([[1, 2, 3], [4, 5, 6]])"
   ]
  },
  {
   "cell_type": "code",
   "execution_count": 9,
   "id": "8fdf1e88",
   "metadata": {},
   "outputs": [
    {
     "data": {
      "text/plain": [
       "numpy.ndarray"
      ]
     },
     "execution_count": 9,
     "metadata": {},
     "output_type": "execute_result"
    }
   ],
   "source": [
    "type(arr9)"
   ]
  },
  {
   "cell_type": "code",
   "execution_count": 10,
   "id": "2326c270",
   "metadata": {},
   "outputs": [
    {
     "name": "stdout",
     "output_type": "stream",
     "text": [
      "[[1 2 3]\n",
      " [4 5 6]]\n"
     ]
    }
   ],
   "source": [
    "print(arr9)"
   ]
  },
  {
   "cell_type": "code",
   "execution_count": 11,
   "id": "26c7b089",
   "metadata": {},
   "outputs": [
    {
     "name": "stdout",
     "output_type": "stream",
     "text": [
      "(2, 3)\n"
     ]
    }
   ],
   "source": [
    "print(arr9.shape)"
   ]
  },
  {
   "cell_type": "code",
   "execution_count": 12,
   "id": "18828083",
   "metadata": {},
   "outputs": [],
   "source": [
    "# Criando uma matriz 2x3 apenas com número 1\n",
    "arr10 = numpy.ones((2,3))"
   ]
  },
  {
   "cell_type": "code",
   "execution_count": 13,
   "id": "cd1f5f7c",
   "metadata": {},
   "outputs": [
    {
     "name": "stdout",
     "output_type": "stream",
     "text": [
      "[[1. 1. 1.]\n",
      " [1. 1. 1.]]\n"
     ]
    }
   ],
   "source": [
    "print(arr10)"
   ]
  },
  {
   "cell_type": "code",
   "execution_count": 14,
   "id": "d3d535c1",
   "metadata": {},
   "outputs": [],
   "source": [
    "# Lista de listas\n",
    "lista = [[13, 81, 22],[0, 34, 59],[21, 48, 94]]"
   ]
  },
  {
   "cell_type": "code",
   "execution_count": 15,
   "id": "92bf26f4",
   "metadata": {},
   "outputs": [],
   "source": [
    "# A função matrix cria uma matriz a partir de uma lista de listas\n",
    "arr11 = numpy.matrix(lista)"
   ]
  },
  {
   "cell_type": "code",
   "execution_count": 17,
   "id": "744933ee",
   "metadata": {},
   "outputs": [
    {
     "data": {
      "text/plain": [
       "numpy.matrix"
      ]
     },
     "execution_count": 17,
     "metadata": {},
     "output_type": "execute_result"
    }
   ],
   "source": [
    "type(arr11)"
   ]
  },
  {
   "cell_type": "code",
   "execution_count": 18,
   "id": "4f59f9c6",
   "metadata": {},
   "outputs": [
    {
     "name": "stdout",
     "output_type": "stream",
     "text": [
      "[[13 81 22]\n",
      " [ 0 34 59]\n",
      " [21 48 94]]\n"
     ]
    }
   ],
   "source": [
    "print(arr11)"
   ]
  },
  {
   "cell_type": "code",
   "execution_count": 19,
   "id": "429fe376",
   "metadata": {},
   "outputs": [
    {
     "data": {
      "text/plain": [
       "(3, 3)"
      ]
     },
     "execution_count": 19,
     "metadata": {},
     "output_type": "execute_result"
    }
   ],
   "source": [
    "# Formato da matriz\n",
    "numpy.shape(arr11)"
   ]
  },
  {
   "cell_type": "code",
   "execution_count": 20,
   "id": "bc9f8634",
   "metadata": {},
   "outputs": [
    {
     "data": {
      "text/plain": [
       "9"
      ]
     },
     "execution_count": 20,
     "metadata": {},
     "output_type": "execute_result"
    }
   ],
   "source": [
    "# Tamanho da matriz\n",
    "arr11.size"
   ]
  },
  {
   "cell_type": "code",
   "execution_count": 21,
   "id": "59a9df28",
   "metadata": {},
   "outputs": [
    {
     "name": "stdout",
     "output_type": "stream",
     "text": [
      "int32\n"
     ]
    }
   ],
   "source": [
    "print(arr11.dtype)"
   ]
  },
  {
   "cell_type": "code",
   "execution_count": 22,
   "id": "cbb51b3d",
   "metadata": {},
   "outputs": [
    {
     "name": "stdout",
     "output_type": "stream",
     "text": [
      "[[13 81 22]\n",
      " [ 0 34 59]\n",
      " [21 48 94]]\n"
     ]
    }
   ],
   "source": [
    "print(arr11)"
   ]
  },
  {
   "cell_type": "code",
   "execution_count": 23,
   "id": "a313a135",
   "metadata": {},
   "outputs": [
    {
     "data": {
      "text/plain": [
       "48"
      ]
     },
     "execution_count": 23,
     "metadata": {},
     "output_type": "execute_result"
    }
   ],
   "source": [
    "# Indexação da matriz\n",
    "arr11[2,1]"
   ]
  },
  {
   "cell_type": "code",
   "execution_count": 24,
   "id": "34f75000",
   "metadata": {},
   "outputs": [
    {
     "data": {
      "text/plain": [
       "matrix([[ 0, 34, 59]])"
      ]
     },
     "execution_count": 24,
     "metadata": {},
     "output_type": "execute_result"
    }
   ],
   "source": [
    "arr11[1,]"
   ]
  },
  {
   "cell_type": "code",
   "execution_count": 25,
   "id": "c45bbda3",
   "metadata": {},
   "outputs": [
    {
     "data": {
      "text/plain": [
       "matrix([[22],\n",
       "        [59]])"
      ]
     },
     "execution_count": 25,
     "metadata": {},
     "output_type": "execute_result"
    }
   ],
   "source": [
    "arr11[0:2,2]"
   ]
  },
  {
   "cell_type": "code",
   "execution_count": 26,
   "id": "eef1a6f1",
   "metadata": {},
   "outputs": [],
   "source": [
    "# Alterando o elemento da matriz\n",
    "arr11[1,0] = 100"
   ]
  },
  {
   "cell_type": "code",
   "execution_count": 27,
   "id": "0b04fb32",
   "metadata": {},
   "outputs": [
    {
     "name": "stdout",
     "output_type": "stream",
     "text": [
      "[[ 13  81  22]\n",
      " [100  34  59]\n",
      " [ 21  48  94]]\n"
     ]
    }
   ],
   "source": [
    "print(arr11)"
   ]
  },
  {
   "cell_type": "code",
   "execution_count": 29,
   "id": "3631beea",
   "metadata": {},
   "outputs": [],
   "source": [
    "x = numpy.array([1, 2]) # NumPy decide o tipo dos dados\n",
    "y = numpy.array([1.0, 2.0]) # NumPy decide o tipo dos dados\n",
    "z = numpy.array([1, 2], dtype = numpy.float64) # Força um tipo de dado específico "
   ]
  },
  {
   "cell_type": "code",
   "execution_count": 30,
   "id": "a6660922",
   "metadata": {},
   "outputs": [
    {
     "name": "stdout",
     "output_type": "stream",
     "text": [
      "int32 float64 float64\n"
     ]
    }
   ],
   "source": [
    "print(x.dtype, y.dtype, z.dtype)"
   ]
  },
  {
   "cell_type": "code",
   "execution_count": 33,
   "id": "28d8f671",
   "metadata": {},
   "outputs": [],
   "source": [
    "arr12 = numpy.array([[24, 76, 92, 14], [47, 35, 89, 2]], dtype = float)"
   ]
  },
  {
   "cell_type": "code",
   "execution_count": 34,
   "id": "417e0cd0",
   "metadata": {},
   "outputs": [
    {
     "name": "stdout",
     "output_type": "stream",
     "text": [
      "[[24. 76. 92. 14.]\n",
      " [47. 35. 89.  2.]]\n"
     ]
    }
   ],
   "source": [
    "print(arr12)"
   ]
  },
  {
   "cell_type": "markdown",
   "id": "092694f3",
   "metadata": {},
   "source": [
    "O itemsize de um array numpy é um atributo que retorna o tamanho em bytes de cada elemento do array. Ele representa o número de bytes necessários para armazenar cada valor do array numpy"
   ]
  },
  {
   "cell_type": "code",
   "execution_count": 35,
   "id": "487163cb",
   "metadata": {},
   "outputs": [
    {
     "data": {
      "text/plain": [
       "8"
      ]
     },
     "execution_count": 35,
     "metadata": {},
     "output_type": "execute_result"
    }
   ],
   "source": [
    "arr12.itemsize # Tamanho em bytes de cada elemento do array"
   ]
  },
  {
   "cell_type": "code",
   "execution_count": 36,
   "id": "d6afeae5",
   "metadata": {},
   "outputs": [
    {
     "data": {
      "text/plain": [
       "64"
      ]
     },
     "execution_count": 36,
     "metadata": {},
     "output_type": "execute_result"
    }
   ],
   "source": [
    "arr12.nbytes"
   ]
  },
  {
   "cell_type": "code",
   "execution_count": 37,
   "id": "056de241",
   "metadata": {},
   "outputs": [
    {
     "data": {
      "text/plain": [
       "2"
      ]
     },
     "execution_count": 37,
     "metadata": {},
     "output_type": "execute_result"
    }
   ],
   "source": [
    "arr12.ndim # Numero de dimensões"
   ]
  }
 ],
 "metadata": {
  "kernelspec": {
   "display_name": "Python 3 (ipykernel)",
   "language": "python",
   "name": "python3"
  },
  "language_info": {
   "codemirror_mode": {
    "name": "ipython",
    "version": 3
   },
   "file_extension": ".py",
   "mimetype": "text/x-python",
   "name": "python",
   "nbconvert_exporter": "python",
   "pygments_lexer": "ipython3",
   "version": "3.9.13"
  }
 },
 "nbformat": 4,
 "nbformat_minor": 5
}
