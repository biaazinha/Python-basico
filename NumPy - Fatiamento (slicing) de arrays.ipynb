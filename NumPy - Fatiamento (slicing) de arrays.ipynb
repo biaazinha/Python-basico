{
 "cells": [
  {
   "cell_type": "markdown",
   "id": "f9fbb303",
   "metadata": {},
   "source": [
    "# NumPy - Fatiamento (slicing) de arrays"
   ]
  },
  {
   "cell_type": "code",
   "execution_count": 2,
   "id": "29600a00",
   "metadata": {},
   "outputs": [],
   "source": [
    "# Importando o NumPy\n",
    "import numpy as numpy"
   ]
  },
  {
   "cell_type": "code",
   "execution_count": 3,
   "id": "d4b01abf",
   "metadata": {},
   "outputs": [],
   "source": [
    "# Cria um array com 3 números em diagonal\n",
    "arr22 = numpy.diag(numpy.arange(3))"
   ]
  },
  {
   "cell_type": "code",
   "execution_count": 4,
   "id": "6a5a5a4c",
   "metadata": {},
   "outputs": [
    {
     "name": "stdout",
     "output_type": "stream",
     "text": [
      "[[0 0 0]\n",
      " [0 1 0]\n",
      " [0 0 2]]\n"
     ]
    }
   ],
   "source": [
    "print(arr22)"
   ]
  },
  {
   "cell_type": "code",
   "execution_count": 5,
   "id": "70be04bc",
   "metadata": {},
   "outputs": [
    {
     "data": {
      "text/plain": [
       "1"
      ]
     },
     "execution_count": 5,
     "metadata": {},
     "output_type": "execute_result"
    }
   ],
   "source": [
    "arr22[1, 1]"
   ]
  },
  {
   "cell_type": "code",
   "execution_count": 6,
   "id": "5a92a259",
   "metadata": {},
   "outputs": [
    {
     "data": {
      "text/plain": [
       "array([0, 1, 0])"
      ]
     },
     "execution_count": 6,
     "metadata": {},
     "output_type": "execute_result"
    }
   ],
   "source": [
    "arr22[1] # Entende linha"
   ]
  },
  {
   "cell_type": "code",
   "execution_count": 7,
   "id": "33741319",
   "metadata": {},
   "outputs": [
    {
     "data": {
      "text/plain": [
       "array([0, 0, 2])"
      ]
     },
     "execution_count": 7,
     "metadata": {},
     "output_type": "execute_result"
    }
   ],
   "source": [
    "arr22[:, 2] # Se quiser coluna"
   ]
  },
  {
   "cell_type": "code",
   "execution_count": 8,
   "id": "cfaabf86",
   "metadata": {},
   "outputs": [],
   "source": [
    "arr23 = numpy.arange(10)"
   ]
  },
  {
   "cell_type": "code",
   "execution_count": 9,
   "id": "21dbf683",
   "metadata": {},
   "outputs": [
    {
     "name": "stdout",
     "output_type": "stream",
     "text": [
      "[0 1 2 3 4 5 6 7 8 9]\n"
     ]
    }
   ],
   "source": [
    "print(arr23)"
   ]
  },
  {
   "cell_type": "code",
   "execution_count": 10,
   "id": "de99deb4",
   "metadata": {},
   "outputs": [
    {
     "data": {
      "text/plain": [
       "array([2, 5, 8])"
      ]
     },
     "execution_count": 10,
     "metadata": {},
     "output_type": "execute_result"
    }
   ],
   "source": [
    "# [start:end:step]\n",
    "arr23[2:9:3]"
   ]
  },
  {
   "cell_type": "code",
   "execution_count": 11,
   "id": "09018cc9",
   "metadata": {},
   "outputs": [],
   "source": [
    "# Cria 2 arrays\n",
    "a = numpy.array([1, 2, 3, 4])\n",
    "b = numpy.array([4, 2, 2, 4])"
   ]
  },
  {
   "cell_type": "code",
   "execution_count": 12,
   "id": "b7ac06d1",
   "metadata": {},
   "outputs": [
    {
     "data": {
      "text/plain": [
       "array([False,  True, False,  True])"
      ]
     },
     "execution_count": 12,
     "metadata": {},
     "output_type": "execute_result"
    }
   ],
   "source": [
    "# Comparação item a item\n",
    "a == b"
   ]
  },
  {
   "cell_type": "code",
   "execution_count": 13,
   "id": "844258b9",
   "metadata": {},
   "outputs": [
    {
     "data": {
      "text/plain": [
       "False"
      ]
     },
     "execution_count": 13,
     "metadata": {},
     "output_type": "execute_result"
    }
   ],
   "source": [
    "# Comparação global\n",
    "numpy.array_equal(arr22, arr23)"
   ]
  },
  {
   "cell_type": "code",
   "execution_count": 14,
   "id": "23d696d9",
   "metadata": {},
   "outputs": [
    {
     "data": {
      "text/plain": [
       "0"
      ]
     },
     "execution_count": 14,
     "metadata": {},
     "output_type": "execute_result"
    }
   ],
   "source": [
    "arr23.min()"
   ]
  },
  {
   "cell_type": "code",
   "execution_count": 15,
   "id": "a80ac1c2",
   "metadata": {},
   "outputs": [
    {
     "data": {
      "text/plain": [
       "9"
      ]
     },
     "execution_count": 15,
     "metadata": {},
     "output_type": "execute_result"
    }
   ],
   "source": [
    "arr23.max()"
   ]
  },
  {
   "cell_type": "code",
   "execution_count": 16,
   "id": "6e1f890c",
   "metadata": {},
   "outputs": [
    {
     "data": {
      "text/plain": [
       "array([2.5, 3.5, 4.5])"
      ]
     },
     "execution_count": 16,
     "metadata": {},
     "output_type": "execute_result"
    }
   ],
   "source": [
    "# Somando um valor a cada elemento do array\n",
    "numpy.array([1, 2, 3]) + 1.5"
   ]
  },
  {
   "cell_type": "code",
   "execution_count": 17,
   "id": "9519b072",
   "metadata": {},
   "outputs": [],
   "source": [
    "# Cria um array \n",
    "arr24 = numpy.array([1.2, 1.5, 1.6, 2.5, 3.5, 4.5])"
   ]
  },
  {
   "cell_type": "code",
   "execution_count": 19,
   "id": "1b4aa5f2",
   "metadata": {},
   "outputs": [],
   "source": [
    "# Usando o método around para arredondar\n",
    "arr25 = numpy.around(arr24)"
   ]
  },
  {
   "cell_type": "code",
   "execution_count": 20,
   "id": "fa396944",
   "metadata": {},
   "outputs": [
    {
     "name": "stdout",
     "output_type": "stream",
     "text": [
      "[1. 2. 2. 2. 4. 4.]\n"
     ]
    }
   ],
   "source": [
    "print(arr25)"
   ]
  },
  {
   "cell_type": "markdown",
   "id": "cc7ac1df",
   "metadata": {},
   "source": [
    "O método flatten() com NumPy é usado para criar uma cópia unidimensional ou achatada de um array multidimensional, organizado em uma única linha."
   ]
  },
  {
   "cell_type": "code",
   "execution_count": 23,
   "id": "83019c62",
   "metadata": {},
   "outputs": [],
   "source": [
    "# Criando um array \n",
    "arr26 = numpy.array([[1, 2, 3, 4], [5, 6, 7, 8]])"
   ]
  },
  {
   "cell_type": "code",
   "execution_count": 24,
   "id": "82002dc3",
   "metadata": {},
   "outputs": [
    {
     "name": "stdout",
     "output_type": "stream",
     "text": [
      "[[1 2 3 4]\n",
      " [5 6 7 8]]\n"
     ]
    }
   ],
   "source": [
    "print(arr26)"
   ]
  },
  {
   "cell_type": "code",
   "execution_count": 25,
   "id": "eb1da13c",
   "metadata": {},
   "outputs": [],
   "source": [
    "# Achatando a matriz\n",
    "arr27 = arr26.flatten()"
   ]
  },
  {
   "cell_type": "code",
   "execution_count": 26,
   "id": "e37b9ab6",
   "metadata": {},
   "outputs": [
    {
     "name": "stdout",
     "output_type": "stream",
     "text": [
      "[1 2 3 4 5 6 7 8]\n"
     ]
    }
   ],
   "source": [
    "print(arr27)"
   ]
  },
  {
   "cell_type": "code",
   "execution_count": 27,
   "id": "fd619a14",
   "metadata": {},
   "outputs": [],
   "source": [
    "# Criando um array\n",
    "arr28 = numpy.array([1, 2, 3])"
   ]
  },
  {
   "cell_type": "code",
   "execution_count": 28,
   "id": "3e2cc307",
   "metadata": {},
   "outputs": [
    {
     "name": "stdout",
     "output_type": "stream",
     "text": [
      "[1 2 3]\n"
     ]
    }
   ],
   "source": [
    "print(arr28)"
   ]
  },
  {
   "cell_type": "code",
   "execution_count": 29,
   "id": "469c5963",
   "metadata": {},
   "outputs": [
    {
     "data": {
      "text/plain": [
       "array([1, 1, 1, 2, 2, 2, 3, 3, 3])"
      ]
     },
     "execution_count": 29,
     "metadata": {},
     "output_type": "execute_result"
    }
   ],
   "source": [
    "# Repetindo os elementos de um array\n",
    "numpy.repeat(arr28, 3)"
   ]
  },
  {
   "cell_type": "code",
   "execution_count": 31,
   "id": "070cc9d9",
   "metadata": {},
   "outputs": [],
   "source": [
    "# Criando um array\n",
    "arr29 = numpy.array([5, 6])"
   ]
  },
  {
   "cell_type": "code",
   "execution_count": 32,
   "id": "a2432fe0",
   "metadata": {},
   "outputs": [],
   "source": [
    "# Criando cópia do array\n",
    "arr30 = numpy.copy(arr29)"
   ]
  },
  {
   "cell_type": "code",
   "execution_count": 33,
   "id": "aaf66eef",
   "metadata": {},
   "outputs": [
    {
     "name": "stdout",
     "output_type": "stream",
     "text": [
      "[5 6]\n"
     ]
    }
   ],
   "source": [
    "print(arr30)"
   ]
  }
 ],
 "metadata": {
  "kernelspec": {
   "display_name": "Python 3 (ipykernel)",
   "language": "python",
   "name": "python3"
  },
  "language_info": {
   "codemirror_mode": {
    "name": "ipython",
    "version": 3
   },
   "file_extension": ".py",
   "mimetype": "text/x-python",
   "name": "python",
   "nbconvert_exporter": "python",
   "pygments_lexer": "ipython3",
   "version": "3.9.13"
  }
 },
 "nbformat": 4,
 "nbformat_minor": 5
}
