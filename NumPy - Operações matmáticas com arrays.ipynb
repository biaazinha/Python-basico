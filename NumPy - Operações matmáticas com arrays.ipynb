{
 "cells": [
  {
   "cell_type": "markdown",
   "id": "01629c29",
   "metadata": {},
   "source": [
    "# NumPy - Operações matmáticas com arrays"
   ]
  },
  {
   "cell_type": "code",
   "execution_count": 10,
   "id": "b0052cdf",
   "metadata": {},
   "outputs": [],
   "source": [
    "# Importando o NumPy\n",
    "import numpy as numpy"
   ]
  },
  {
   "cell_type": "code",
   "execution_count": 11,
   "id": "2f5a3ea2",
   "metadata": {},
   "outputs": [],
   "source": [
    "arr15 = numpy.arange(1, 10)"
   ]
  },
  {
   "cell_type": "code",
   "execution_count": 12,
   "id": "86e18d4b",
   "metadata": {},
   "outputs": [
    {
     "name": "stdout",
     "output_type": "stream",
     "text": [
      "[1 2 3 4 5 6 7 8 9]\n"
     ]
    }
   ],
   "source": [
    "print(arr15)"
   ]
  },
  {
   "cell_type": "code",
   "execution_count": 13,
   "id": "0553cc6a",
   "metadata": {},
   "outputs": [
    {
     "data": {
      "text/plain": [
       "45"
      ]
     },
     "execution_count": 13,
     "metadata": {},
     "output_type": "execute_result"
    }
   ],
   "source": [
    "# Soma dos elementos do array \n",
    "numpy.sum(arr15)"
   ]
  },
  {
   "cell_type": "code",
   "execution_count": 14,
   "id": "51954aa0",
   "metadata": {},
   "outputs": [
    {
     "data": {
      "text/plain": [
       "362880"
      ]
     },
     "execution_count": 14,
     "metadata": {},
     "output_type": "execute_result"
    }
   ],
   "source": [
    "# Retorna o produto dos elementos\n",
    "numpy.prod(arr15)"
   ]
  },
  {
   "cell_type": "code",
   "execution_count": 15,
   "id": "56e20c43",
   "metadata": {},
   "outputs": [
    {
     "data": {
      "text/plain": [
       "array([ 1,  3,  6, 10, 15, 21, 28, 36, 45])"
      ]
     },
     "execution_count": 15,
     "metadata": {},
     "output_type": "execute_result"
    }
   ],
   "source": [
    "# Soma acumulada dos elementos\n",
    "numpy.cumsum(arr15)"
   ]
  },
  {
   "cell_type": "code",
   "execution_count": 16,
   "id": "2920bb61",
   "metadata": {},
   "outputs": [],
   "source": [
    "# Cria 2 arrays\n",
    "arr16 = numpy.array([3, 2, 1])\n",
    "arr17 = numpy.array([1, 2, 3])"
   ]
  },
  {
   "cell_type": "code",
   "execution_count": 17,
   "id": "6df3e6aa",
   "metadata": {},
   "outputs": [],
   "source": [
    "# Soma dos arrays\n",
    "arr18 = numpy.add(arr16, arr17)"
   ]
  },
  {
   "cell_type": "code",
   "execution_count": 19,
   "id": "cd5ff5b8",
   "metadata": {},
   "outputs": [
    {
     "name": "stdout",
     "output_type": "stream",
     "text": [
      "[4 4 4]\n"
     ]
    }
   ],
   "source": [
    "print(arr18)"
   ]
  },
  {
   "cell_type": "markdown",
   "id": "9984edb8",
   "metadata": {},
   "source": [
    "Para multiplicar duas matrizes, podemos usar a função dot() ou o operador @. Para que seja executada com sucesso, o número de colunas da primeira deve ser igual ao número de linhas da segunda matriz."
   ]
  },
  {
   "cell_type": "code",
   "execution_count": 28,
   "id": "e6c4c379",
   "metadata": {},
   "outputs": [],
   "source": [
    "# Cria duas matrizes\n",
    "arr19 = numpy.array([[1, 2], [3, 4]])\n",
    "arr20 = numpy.array([[5, 6], [0, 7]])"
   ]
  },
  {
   "cell_type": "code",
   "execution_count": 29,
   "id": "d146d103",
   "metadata": {},
   "outputs": [
    {
     "data": {
      "text/plain": [
       "(2, 2)"
      ]
     },
     "execution_count": 29,
     "metadata": {},
     "output_type": "execute_result"
    }
   ],
   "source": [
    "arr19.shape"
   ]
  },
  {
   "cell_type": "code",
   "execution_count": 30,
   "id": "c881b302",
   "metadata": {},
   "outputs": [
    {
     "data": {
      "text/plain": [
       "(2, 2)"
      ]
     },
     "execution_count": 30,
     "metadata": {},
     "output_type": "execute_result"
    }
   ],
   "source": [
    "arr20.shape"
   ]
  },
  {
   "cell_type": "code",
   "execution_count": 31,
   "id": "452be53f",
   "metadata": {},
   "outputs": [
    {
     "name": "stdout",
     "output_type": "stream",
     "text": [
      "[[1 2]\n",
      " [3 4]]\n"
     ]
    }
   ],
   "source": [
    "print(arr19)"
   ]
  },
  {
   "cell_type": "code",
   "execution_count": 32,
   "id": "81fe3abf",
   "metadata": {},
   "outputs": [
    {
     "name": "stdout",
     "output_type": "stream",
     "text": [
      "[[5 6]\n",
      " [0 7]]\n"
     ]
    }
   ],
   "source": [
    "print(arr20)"
   ]
  },
  {
   "cell_type": "code",
   "execution_count": 33,
   "id": "f6caf96a",
   "metadata": {},
   "outputs": [],
   "source": [
    "# Multiplicar as duas matrizes\n",
    "arr21 = numpy.dot(arr19, arr20)"
   ]
  },
  {
   "cell_type": "code",
   "execution_count": 34,
   "id": "9d7f507f",
   "metadata": {},
   "outputs": [
    {
     "name": "stdout",
     "output_type": "stream",
     "text": [
      "[[ 5 20]\n",
      " [15 46]]\n"
     ]
    }
   ],
   "source": [
    "print(arr21)"
   ]
  },
  {
   "cell_type": "markdown",
   "id": "edb51969",
   "metadata": {},
   "source": [
    " [1,2] x [5,6] = [1x5+2x0  1x6+2x7] = [5,20]\n",
    " \n",
    " [3,4]    [0,7]    [3x5+4x0  3x6+4x7]    [15,46]"
   ]
  },
  {
   "cell_type": "code",
   "execution_count": 35,
   "id": "c3a7582b",
   "metadata": {},
   "outputs": [],
   "source": [
    "# Multiplicar as duas matrizes\n",
    "arr21 = arr19 @ arr20"
   ]
  },
  {
   "cell_type": "code",
   "execution_count": 36,
   "id": "5a92fd23",
   "metadata": {},
   "outputs": [
    {
     "name": "stdout",
     "output_type": "stream",
     "text": [
      "[[ 5 20]\n",
      " [15 46]]\n"
     ]
    }
   ],
   "source": [
    "print(arr21)"
   ]
  }
 ],
 "metadata": {
  "kernelspec": {
   "display_name": "Python 3 (ipykernel)",
   "language": "python",
   "name": "python3"
  },
  "language_info": {
   "codemirror_mode": {
    "name": "ipython",
    "version": 3
   },
   "file_extension": ".py",
   "mimetype": "text/x-python",
   "name": "python",
   "nbconvert_exporter": "python",
   "pygments_lexer": "ipython3",
   "version": "3.9.13"
  }
 },
 "nbformat": 4,
 "nbformat_minor": 5
}
