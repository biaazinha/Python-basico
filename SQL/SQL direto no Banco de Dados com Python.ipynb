{
 "cells": [
  {
   "cell_type": "markdown",
   "id": "109a1f2e",
   "metadata": {},
   "source": [
    "# SQL direto no Banco de Dados com Python"
   ]
  },
  {
   "cell_type": "code",
   "execution_count": 3,
   "id": "dc65ec85",
   "metadata": {},
   "outputs": [],
   "source": [
    "import sqlite3\n",
    "import pandas as pd\n",
    "# Conecta no banco de dados\n",
    "con = sqlite3.connect('cap12_dsa.db')\n",
    "# Abre um cursor para percorrer os dados no banco de dados\n",
    "cursor = con.cursor()"
   ]
  },
  {
   "cell_type": "markdown",
   "id": "e07df0dd",
   "metadata": {},
   "source": [
    "A query abaixo retorna a média de unidades vendidas"
   ]
  },
  {
   "cell_type": "code",
   "execution_count": 4,
   "id": "dc9f5a85",
   "metadata": {},
   "outputs": [],
   "source": [
    "# Cria uma instrução SQL para calcular a média de unidades vendidas\n",
    "query2 = 'SELECT AVG(Unidades_Vendidas) FROM tb_vendas_dsa' # AVG = AGREGAÇÃO"
   ]
  },
  {
   "cell_type": "code",
   "execution_count": 5,
   "id": "8d2979a3",
   "metadata": {},
   "outputs": [
    {
     "data": {
      "text/plain": [
       "<sqlite3.Cursor at 0x188f84608f0>"
      ]
     },
     "execution_count": 5,
     "metadata": {},
     "output_type": "execute_result"
    }
   ],
   "source": [
    "# Executa a query no banco de dados\n",
    "cursor.execute(query2)"
   ]
  },
  {
   "cell_type": "code",
   "execution_count": 6,
   "id": "a621a67f",
   "metadata": {},
   "outputs": [
    {
     "name": "stdout",
     "output_type": "stream",
     "text": [
      "[(10.506,)]\n"
     ]
    }
   ],
   "source": [
    "# Visualiza o resultado\n",
    "print(cursor.fetchall())"
   ]
  },
  {
   "cell_type": "markdown",
   "id": "bf3448fc",
   "metadata": {},
   "source": [
    "A query abaixo retorna a média de unidades vendidas por produto"
   ]
  },
  {
   "cell_type": "code",
   "execution_count": 7,
   "id": "8f8b52bb",
   "metadata": {},
   "outputs": [],
   "source": [
    "# Cria uma instrução SQL para calcular a média de unidades vendidas por produto\n",
    "query3 = 'SELECT Nome_Produto, AVG(Unidades_Vendidas) FROM tb_vendas_dsa GROUP BY Nome_Produto'"
   ]
  },
  {
   "cell_type": "code",
   "execution_count": 8,
   "id": "657e8327",
   "metadata": {},
   "outputs": [
    {
     "data": {
      "text/plain": [
       "<sqlite3.Cursor at 0x188f84608f0>"
      ]
     },
     "execution_count": 8,
     "metadata": {},
     "output_type": "execute_result"
    }
   ],
   "source": [
    "# Executa a query \n",
    "cursor.execute(query3)"
   ]
  },
  {
   "cell_type": "code",
   "execution_count": 9,
   "id": "4abbe415",
   "metadata": {},
   "outputs": [
    {
     "data": {
      "text/plain": [
       "[('Produto_1', 12.0),\n",
       " ('Produto_10', 9.5),\n",
       " ('Produto_11', 14.181818181818182),\n",
       " ('Produto_12', 8.846153846153847),\n",
       " ('Produto_13', 6.0),\n",
       " ('Produto_14', 9.166666666666666),\n",
       " ('Produto_15', 9.75),\n",
       " ('Produto_16', 8.25),\n",
       " ('Produto_17', 11.714285714285714),\n",
       " ('Produto_18', 13.083333333333334),\n",
       " ('Produto_19', 9.727272727272727),\n",
       " ('Produto_2', 9.25),\n",
       " ('Produto_20', 7.555555555555555),\n",
       " ('Produto_21', 10.285714285714286),\n",
       " ('Produto_22', 13.6875),\n",
       " ('Produto_23', 10.818181818181818),\n",
       " ('Produto_24', 12.272727272727273),\n",
       " ('Produto_25', 9.538461538461538),\n",
       " ('Produto_26', 9.363636363636363),\n",
       " ('Produto_27', 11.1),\n",
       " ('Produto_28', 9.0),\n",
       " ('Produto_29', 9.692307692307692),\n",
       " ('Produto_3', 8.909090909090908),\n",
       " ('Produto_30', 9.875),\n",
       " ('Produto_31', 7.9),\n",
       " ('Produto_32', 11.923076923076923),\n",
       " ('Produto_33', 12.285714285714286),\n",
       " ('Produto_34', 8.1),\n",
       " ('Produto_35', 9.0),\n",
       " ('Produto_36', 9.090909090909092),\n",
       " ('Produto_37', 11.0),\n",
       " ('Produto_38', 12.8),\n",
       " ('Produto_39', 12.666666666666666),\n",
       " ('Produto_4', 11.153846153846153),\n",
       " ('Produto_40', 7.25),\n",
       " ('Produto_41', 11.857142857142858),\n",
       " ('Produto_42', 10.272727272727273),\n",
       " ('Produto_43', 11.0),\n",
       " ('Produto_44', 7.2),\n",
       " ('Produto_45', 8.875),\n",
       " ('Produto_46', 12.142857142857142),\n",
       " ('Produto_47', 10.571428571428571),\n",
       " ('Produto_48', 14.0),\n",
       " ('Produto_49', 11.875),\n",
       " ('Produto_5', 10.2),\n",
       " ('Produto_50', 10.545454545454545),\n",
       " ('Produto_6', 12.0),\n",
       " ('Produto_7', 13.5625),\n",
       " ('Produto_8', 11.071428571428571),\n",
       " ('Produto_9', 7.2)]"
      ]
     },
     "execution_count": 9,
     "metadata": {},
     "output_type": "execute_result"
    }
   ],
   "source": [
    "# Visualiza o resultado\n",
    "cursor.fetchall()"
   ]
  },
  {
   "cell_type": "markdown",
   "id": "1790b9c3",
   "metadata": {},
   "source": [
    "A query abaixo retorna a média de unidades vendidas por produto se o valor unitário for maior do que 199"
   ]
  },
  {
   "cell_type": "code",
   "execution_count": 11,
   "id": "38199f04",
   "metadata": {},
   "outputs": [],
   "source": [
    "# Cria uma instrução SQL para calcular a média de unidades vendidas por produto, ,\n",
    "# quando o valor unitário for maior que 199\n",
    "query4 = \"\"\"SELECT Nome_Produto, AVG(Unidades_Vendidas)\n",
    "            FROM tb_vendas_dsa\n",
    "            WHERE Valor_Unitario > 199\n",
    "            GROUP BY Nome_Produto\"\"\""
   ]
  },
  {
   "cell_type": "code",
   "execution_count": 12,
   "id": "85bdd1a3",
   "metadata": {},
   "outputs": [
    {
     "data": {
      "text/plain": [
       "<sqlite3.Cursor at 0x188f84608f0>"
      ]
     },
     "execution_count": 12,
     "metadata": {},
     "output_type": "execute_result"
    }
   ],
   "source": [
    "# Executa a query \n",
    "cursor.execute(query4)"
   ]
  },
  {
   "cell_type": "code",
   "execution_count": 13,
   "id": "38b6e5a0",
   "metadata": {},
   "outputs": [
    {
     "data": {
      "text/plain": [
       "[('Produto_11', 1.0),\n",
       " ('Produto_15', 8.0),\n",
       " ('Produto_17', 14.0),\n",
       " ('Produto_20', 7.0),\n",
       " ('Produto_39', 16.0)]"
      ]
     },
     "execution_count": 13,
     "metadata": {},
     "output_type": "execute_result"
    }
   ],
   "source": [
    "# Visualiza o resultado \n",
    "cursor.fetchall()"
   ]
  },
  {
   "cell_type": "markdown",
   "id": "ea0407b8",
   "metadata": {},
   "source": [
    "A query abaixo retorna a média de unidades vendidas por produto se o valor unitário for maior do que 199 e somente se a média das unidades vendidas for maior que 10"
   ]
  },
  {
   "cell_type": "code",
   "execution_count": 14,
   "id": "ab5c6f7b",
   "metadata": {},
   "outputs": [],
   "source": [
    "# Está query está ERRADA, não podemos usar AVG na cláusula WHERE \n",
    "query5 = \"\"\"SELECT Nome_Produto, AVG(Unidades_Vendidas)\n",
    "            FROM tb_vendas_dsa\n",
    "            WHERE Valor_Unitario > 199 and AVG(Unidades_Vendidas) > 10\n",
    "            GROUP BY Nome_Produto\"\"\""
   ]
  },
  {
   "cell_type": "code",
   "execution_count": 15,
   "id": "2983494c",
   "metadata": {},
   "outputs": [
    {
     "ename": "OperationalError",
     "evalue": "misuse of aggregate: AVG()",
     "output_type": "error",
     "traceback": [
      "\u001b[1;31m---------------------------------------------------------------------------\u001b[0m",
      "\u001b[1;31mOperationalError\u001b[0m                          Traceback (most recent call last)",
      "\u001b[1;32m~\\AppData\\Local\\Temp\\ipykernel_19372\\2011009180.py\u001b[0m in \u001b[0;36m<module>\u001b[1;34m\u001b[0m\n\u001b[0;32m      1\u001b[0m \u001b[1;31m# Executa a query\u001b[0m\u001b[1;33m\u001b[0m\u001b[1;33m\u001b[0m\u001b[0m\n\u001b[1;32m----> 2\u001b[1;33m \u001b[0mcursor\u001b[0m\u001b[1;33m.\u001b[0m\u001b[0mexecute\u001b[0m\u001b[1;33m(\u001b[0m\u001b[0mquery5\u001b[0m\u001b[1;33m)\u001b[0m\u001b[1;33m\u001b[0m\u001b[1;33m\u001b[0m\u001b[0m\n\u001b[0m",
      "\u001b[1;31mOperationalError\u001b[0m: misuse of aggregate: AVG()"
     ]
    }
   ],
   "source": [
    "# Executa a query \n",
    "cursor.execute(query5)"
   ]
  },
  {
   "cell_type": "code",
   "execution_count": 16,
   "id": "6a2532f3",
   "metadata": {},
   "outputs": [],
   "source": [
    "# Query correta\n",
    "query5 = \"\"\"SELECT Nome_Produto, AVG(Unidades_Vendidas)\n",
    "            FROM tb_vendas_dsa\n",
    "            WHERE Valor_Unitario > 199\n",
    "            Group by Nome_Produto\n",
    "            HAVING AVG(Unidades_Vendidas) > 10\"\"\""
   ]
  },
  {
   "cell_type": "code",
   "execution_count": 17,
   "id": "30dbef79",
   "metadata": {},
   "outputs": [
    {
     "data": {
      "text/plain": [
       "<sqlite3.Cursor at 0x188f84608f0>"
      ]
     },
     "execution_count": 17,
     "metadata": {},
     "output_type": "execute_result"
    }
   ],
   "source": [
    "# Executa a query \n",
    "cursor.execute(query5)"
   ]
  },
  {
   "cell_type": "code",
   "execution_count": 18,
   "id": "b15c1fd9",
   "metadata": {},
   "outputs": [
    {
     "data": {
      "text/plain": [
       "[('Produto_17', 14.0), ('Produto_39', 16.0)]"
      ]
     },
     "execution_count": 18,
     "metadata": {},
     "output_type": "execute_result"
    }
   ],
   "source": [
    "# Visualiza o resultado \n",
    "cursor.fetchall()"
   ]
  },
  {
   "cell_type": "code",
   "execution_count": 19,
   "id": "d19ce8c2",
   "metadata": {},
   "outputs": [],
   "source": [
    "# Fecha o cursor e encerra a conexão\n",
    "cursor.close()"
   ]
  }
 ],
 "metadata": {
  "kernelspec": {
   "display_name": "Python 3 (ipykernel)",
   "language": "python",
   "name": "python3"
  },
  "language_info": {
   "codemirror_mode": {
    "name": "ipython",
    "version": 3
   },
   "file_extension": ".py",
   "mimetype": "text/x-python",
   "name": "python",
   "nbconvert_exporter": "python",
   "pygments_lexer": "ipython3",
   "version": "3.9.13"
  }
 },
 "nbformat": 4,
 "nbformat_minor": 5
}
