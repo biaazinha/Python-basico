{
 "cells": [
  {
   "cell_type": "markdown",
   "id": "6b08b5d3",
   "metadata": {},
   "source": [
    "# Herança de Classes"
   ]
  },
  {
   "cell_type": "markdown",
   "id": "17eb8435",
   "metadata": {},
   "source": [
    "Criar novas classes a partir de outras classes existentes, aprveitando os atributos e métodos da classe original e adicionando novos atributos e métodos específicos."
   ]
  },
  {
   "cell_type": "markdown",
   "id": "f9712206",
   "metadata": {},
   "source": [
    "Na herança, uma subclasse pode herdar os atributos e métodos da superclasse e substitui-los ou estende-los conforme necessário. Por exemplo, uma subclasse pode ter um método com o mesmo nome de um método da superclasse, mas com um comportamento diferente. "
   ]
  },
  {
   "cell_type": "code",
   "execution_count": 1,
   "id": "ab75c870",
   "metadata": {},
   "outputs": [],
   "source": [
    "# Criando a classe Animal (Super-classe)\n",
    "class Animal:\n",
    "    \n",
    "    def __init__(self):\n",
    "        print(\"Animal criado.\")\n",
    "        \n",
    "    def imprimir(self):\n",
    "        print(\"Este é um animal.\")\n",
    "          \n",
    "    def comer(self):\n",
    "        print(\"Hora de comer.\")\n",
    "        \n",
    "    def emitir_som(self):\n",
    "        pass"
   ]
  },
  {
   "cell_type": "code",
   "execution_count": 8,
   "id": "e2d1ffb4",
   "metadata": {},
   "outputs": [],
   "source": [
    "# Criando a classe cachorro (Sub-classe)\n",
    "\n",
    "class Cachorro(Animal):\n",
    "    \n",
    "    def __init__(self):\n",
    "        Animal.__init__(self)\n",
    "        print(\"Objeto cachorro criado.\")\n",
    "        \n",
    "    def emitir_som(self):\n",
    "        print(\"Au au!\")"
   ]
  },
  {
   "cell_type": "code",
   "execution_count": 3,
   "id": "f54a516e",
   "metadata": {},
   "outputs": [],
   "source": [
    "# Criando a classe gato (Sub-classe)\n",
    "class Gato(Animal):\n",
    "        \n",
    "    def __init__(self):\n",
    "        Animal.__init__(self)\n",
    "        print(\"Objeto gato criado.\")\n",
    "    \n",
    "    def emitir_som(self):\n",
    "        print(\"Miau!\")"
   ]
  },
  {
   "cell_type": "code",
   "execution_count": 10,
   "id": "0e38cfc7",
   "metadata": {},
   "outputs": [
    {
     "name": "stdout",
     "output_type": "stream",
     "text": [
      "Animal criado.\n",
      "Objeto cachorro criado.\n"
     ]
    }
   ],
   "source": [
    "# Criando um objeto (Instanciando a classe)\n",
    "tom = Cachorro()"
   ]
  },
  {
   "cell_type": "code",
   "execution_count": 11,
   "id": "bcab1568",
   "metadata": {},
   "outputs": [
    {
     "name": "stdout",
     "output_type": "stream",
     "text": [
      "Animal criado.\n",
      "Objeto gato criado.\n"
     ]
    }
   ],
   "source": [
    "# Criando um objeto (Instanciando a classe)\n",
    "caramelo = Gato()"
   ]
  },
  {
   "cell_type": "code",
   "execution_count": 12,
   "id": "7ce32ad0",
   "metadata": {},
   "outputs": [
    {
     "name": "stdout",
     "output_type": "stream",
     "text": [
      "Au au!\n"
     ]
    }
   ],
   "source": [
    "# Executando o método da classe Cachorro (sub-classe)\n",
    "tom.emitir_som()"
   ]
  },
  {
   "cell_type": "code",
   "execution_count": 13,
   "id": "7423f9e7",
   "metadata": {},
   "outputs": [
    {
     "name": "stdout",
     "output_type": "stream",
     "text": [
      "Miau!\n"
     ]
    }
   ],
   "source": [
    "caramelo.emitir_som()"
   ]
  },
  {
   "cell_type": "code",
   "execution_count": 14,
   "id": "22607482",
   "metadata": {},
   "outputs": [
    {
     "name": "stdout",
     "output_type": "stream",
     "text": [
      "Este é um animal.\n"
     ]
    }
   ],
   "source": [
    "tom.imprimir()"
   ]
  },
  {
   "cell_type": "code",
   "execution_count": 15,
   "id": "51464ad4",
   "metadata": {},
   "outputs": [
    {
     "name": "stdout",
     "output_type": "stream",
     "text": [
      "Hora de comer.\n"
     ]
    }
   ],
   "source": [
    "# Executando o método da classe Animal (super-classe)\n",
    "tom.comer()"
   ]
  },
  {
   "cell_type": "code",
   "execution_count": 16,
   "id": "89fece33",
   "metadata": {},
   "outputs": [
    {
     "name": "stdout",
     "output_type": "stream",
     "text": [
      "Hora de comer.\n"
     ]
    }
   ],
   "source": [
    "caramelo.comer()"
   ]
  }
 ],
 "metadata": {
  "kernelspec": {
   "display_name": "Python 3 (ipykernel)",
   "language": "python",
   "name": "python3"
  },
  "language_info": {
   "codemirror_mode": {
    "name": "ipython",
    "version": 3
   },
   "file_extension": ".py",
   "mimetype": "text/x-python",
   "name": "python",
   "nbconvert_exporter": "python",
   "pygments_lexer": "ipython3",
   "version": "3.9.13"
  }
 },
 "nbformat": 4,
 "nbformat_minor": 5
}
