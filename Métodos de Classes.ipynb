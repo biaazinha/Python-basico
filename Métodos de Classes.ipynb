{
 "cells": [
  {
   "cell_type": "markdown",
   "id": "555405f9",
   "metadata": {},
   "source": [
    "# Métodos de Classe"
   ]
  },
  {
   "cell_type": "markdown",
   "id": "bb957668",
   "metadata": {},
   "source": [
    "Quando coloco uma função dentro de uma classe, é um método."
   ]
  },
  {
   "cell_type": "markdown",
   "id": "268a0bf0",
   "metadata": {},
   "source": [
    "Diferente das funçõe normais, os métodos de classes sempre incluem o parametro self como o primeiro argumento, que é usado para se referir ao objeto atual da classe."
   ]
  },
  {
   "cell_type": "code",
   "execution_count": 3,
   "id": "da5b4040",
   "metadata": {},
   "outputs": [],
   "source": [
    "# Criando uma Classe chamada Círculo\n",
    "class Circulo():\n",
    "    \n",
    "    # O valor de pi é constante\n",
    "    pi = 3.14\n",
    "    \n",
    "    # Quando um objeto desta classe for criado, este método será executado e o valor default do raio será 5\n",
    "    def __init__(self, raio = 5):\n",
    "        self.raio = raio\n",
    "        \n",
    "    # Esse método calcula a área\n",
    "    def area(self):\n",
    "        return (self.raio * self.raio) * Circulo.pi\n",
    "    \n",
    "    # Método para gerar um novo raio \n",
    "    def setRaio(self, novo_raio):\n",
    "        self.raio = novo_raio\n",
    "        \n",
    "    # Método para obter o raio do circulo \n",
    "    def getRaio(self):\n",
    "        return self.raio"
   ]
  },
  {
   "cell_type": "code",
   "execution_count": 4,
   "id": "ad5f8e08",
   "metadata": {},
   "outputs": [],
   "source": [
    "# Criando um objeto circ, uma instancia da classe Circulo()\n",
    "circ = Circulo()"
   ]
  },
  {
   "cell_type": "code",
   "execution_count": 5,
   "id": "47f85bd1",
   "metadata": {},
   "outputs": [
    {
     "data": {
      "text/plain": [
       "5"
      ]
     },
     "execution_count": 5,
     "metadata": {},
     "output_type": "execute_result"
    }
   ],
   "source": [
    "# Executando um método da classe Circulo\n",
    "circ.getRaio()"
   ]
  },
  {
   "cell_type": "code",
   "execution_count": 6,
   "id": "46f49bd0",
   "metadata": {},
   "outputs": [],
   "source": [
    "# Criando outro objeto chamado circ1. Uma instancia da classe Circulo()\n",
    "# Agora sobrescrevendo o valor do atributo \n",
    "circ1 = Circulo(7)"
   ]
  },
  {
   "cell_type": "code",
   "execution_count": 7,
   "id": "e8046bef",
   "metadata": {},
   "outputs": [
    {
     "data": {
      "text/plain": [
       "7"
      ]
     },
     "execution_count": 7,
     "metadata": {},
     "output_type": "execute_result"
    }
   ],
   "source": [
    "# Executando um método da classe Circulo\n",
    "circ1.getRaio()"
   ]
  },
  {
   "cell_type": "code",
   "execution_count": 8,
   "id": "de5ba149",
   "metadata": {},
   "outputs": [
    {
     "name": "stdout",
     "output_type": "stream",
     "text": [
      "O raio é:  5\n"
     ]
    }
   ],
   "source": [
    "# Imprimindo o raio \n",
    "print(\"O raio é: \", circ.getRaio())"
   ]
  },
  {
   "cell_type": "code",
   "execution_count": 9,
   "id": "612f88bf",
   "metadata": {},
   "outputs": [
    {
     "name": "stdout",
     "output_type": "stream",
     "text": [
      "A área é igual a:  78.5\n"
     ]
    }
   ],
   "source": [
    "# Imprimindo a area\n",
    "print(\"A área é igual a: \", circ.area())"
   ]
  },
  {
   "cell_type": "code",
   "execution_count": 10,
   "id": "ec0e1a67",
   "metadata": {},
   "outputs": [],
   "source": [
    "# Gerando um novo valor para o raio do círculo\n",
    "circ.setRaio(3)"
   ]
  },
  {
   "cell_type": "code",
   "execution_count": 11,
   "id": "db6ecbeb",
   "metadata": {},
   "outputs": [
    {
     "name": "stdout",
     "output_type": "stream",
     "text": [
      "Novo raio igual a:  3\n"
     ]
    }
   ],
   "source": [
    "# Imprimindo o novo raio\n",
    "print(\"Novo raio igual a: \", circ.getRaio())"
   ]
  }
 ],
 "metadata": {
  "kernelspec": {
   "display_name": "Python 3 (ipykernel)",
   "language": "python",
   "name": "python3"
  },
  "language_info": {
   "codemirror_mode": {
    "name": "ipython",
    "version": 3
   },
   "file_extension": ".py",
   "mimetype": "text/x-python",
   "name": "python",
   "nbconvert_exporter": "python",
   "pygments_lexer": "ipython3",
   "version": "3.9.13"
  }
 },
 "nbformat": 4,
 "nbformat_minor": 5
}
