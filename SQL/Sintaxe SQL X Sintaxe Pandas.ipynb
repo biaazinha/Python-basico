{
 "cells": [
  {
   "cell_type": "markdown",
   "id": "5cca1a4c",
   "metadata": {},
   "source": [
    "# Sintaxe SQL X Sintaxe Pandas"
   ]
  },
  {
   "cell_type": "code",
   "execution_count": 1,
   "id": "69f4ed91",
   "metadata": {},
   "outputs": [],
   "source": [
    "import sqlite3\n",
    "import pandas as pd\n",
    "# Conecta no banco de dados\n",
    "con = sqlite3.connect('cap12_dsa.db')\n",
    "# Abre um cursor para percorrer os dados no banco de dados\n",
    "cursor = con.cursor()"
   ]
  },
  {
   "cell_type": "code",
   "execution_count": 4,
   "id": "8b88d54f",
   "metadata": {},
   "outputs": [],
   "source": [
    "# Retorna os dados da execução da query \n",
    "dados = cursor.fetchall()\n",
    "\n",
    "# Carrega os dados como dataframe do Pandas\n",
    "df = pd.DataFrame(dados, columns = ['ID_Pedido',\n",
    "                                    'ID_Cliente',\n",
    "                                    'Nome_Produto',\n",
    "                                    'Valor_Unitario',\n",
    "                                    'Unidades_Vendidas',\n",
    "                                    'Custo'])"
   ]
  },
  {
   "cell_type": "markdown",
   "id": "b7d4c0c0",
   "metadata": {},
   "source": [
    "As duas instruções abaixo retornam o mesmo"
   ]
  },
  {
   "cell_type": "code",
   "execution_count": 5,
   "id": "1d388c9d",
   "metadata": {},
   "outputs": [],
   "source": [
    "# Sintaxe SQL \n",
    "query = \"\"\"SELECT Nome_Produto, AVG(Unidades_Vendidas)\n",
    "           FROM tb_vendas_dsa\n",
    "           WHERE Valor_Unitario > 199\n",
    "           GROUP BY Nome_Produto\n",
    "           HAVING AVG(Unidades_Vendidas) > 10\"\"\""
   ]
  },
  {
   "cell_type": "code",
   "execution_count": 6,
   "id": "bc7e5c88",
   "metadata": {},
   "outputs": [
    {
     "data": {
      "text/plain": [
       "Series([], Name: Unidades_Vendidas, dtype: object)"
      ]
     },
     "execution_count": 6,
     "metadata": {},
     "output_type": "execute_result"
    }
   ],
   "source": [
    "# Sintaxe Pandas\n",
    "df[df['Valor_Unitario'] > 199.].groupby('Nome_Produto') \\\n",
    "                               .filter(lambda x: x['Unidades_Vendidas'].mean() > 10) \\\n",
    "                               .groupby('Nome_Produto')['Unidades_Vendidas'].mean()"
   ]
  },
  {
   "cell_type": "code",
   "execution_count": 7,
   "id": "2ff8cf69",
   "metadata": {},
   "outputs": [],
   "source": [
    "# Fecha o cursor e encerra a conexão\n",
    "cursor.close()\n",
    "con.close()"
   ]
  }
 ],
 "metadata": {
  "kernelspec": {
   "display_name": "Python 3 (ipykernel)",
   "language": "python",
   "name": "python3"
  },
  "language_info": {
   "codemirror_mode": {
    "name": "ipython",
    "version": 3
   },
   "file_extension": ".py",
   "mimetype": "text/x-python",
   "name": "python",
   "nbconvert_exporter": "python",
   "pygments_lexer": "ipython3",
   "version": "3.9.13"
  }
 },
 "nbformat": 4,
 "nbformat_minor": 5
}
