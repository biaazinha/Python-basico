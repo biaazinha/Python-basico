{
 "cells": [
  {
   "cell_type": "markdown",
   "id": "aa58e073",
   "metadata": {},
   "source": [
    "# Polimorfismo de Classe"
   ]
  },
  {
   "cell_type": "markdown",
   "id": "1dcccb02",
   "metadata": {},
   "source": [
    "Permite que objetos de diferentes Classes possam ser tratados de forma uniforme. Isso sisgnifica qu eum objeto pode ser tratado como se fosse de uma superclasse mesmo que ele seja de uma subclasse"
   ]
  },
  {
   "cell_type": "markdown",
   "id": "a226c91b",
   "metadata": {},
   "source": [
    "Se refere a habilidade de um objeto responder de diferentes formas a uma mesma mensagem. Os mesmos atributos e métodos podem ser utilizados em objetos distintos, porém, com implementações lógicas diferentes."
   ]
  },
  {
   "cell_type": "code",
   "execution_count": 2,
   "id": "6998b9fd",
   "metadata": {},
   "outputs": [],
   "source": [
    "# Superclasse\n",
    "class Veiculo:\n",
    "    \n",
    "    def __init__(self, marca, modelo):\n",
    "        self.marca = marca\n",
    "        self.modelo = modelo\n",
    "        \n",
    "    def acelerar(self):\n",
    "        pass\n",
    "    \n",
    "    def frear(self):\n",
    "        pass"
   ]
  },
  {
   "cell_type": "code",
   "execution_count": 3,
   "id": "662b4e1e",
   "metadata": {},
   "outputs": [],
   "source": [
    "# Subclasse\n",
    "class Carro(Veiculo):\n",
    "    \n",
    "    def acelerar(self):\n",
    "        print(\"O carro está acelerando.\")\n",
    "        \n",
    "    def frear(self):\n",
    "        print(\"O carro está freando.\")"
   ]
  },
  {
   "cell_type": "code",
   "execution_count": 4,
   "id": "9123ea4e",
   "metadata": {},
   "outputs": [],
   "source": [
    "# Subclasse\n",
    "class Moto(Veiculo):\n",
    "    \n",
    "    def acelerar(self):\n",
    "        print(\"A moto está acelerando.\")\n",
    "        \n",
    "    def frear(self):\n",
    "        print(\"A moto está freando.\")"
   ]
  },
  {
   "cell_type": "code",
   "execution_count": 6,
   "id": "3d044376",
   "metadata": {},
   "outputs": [],
   "source": [
    "# Subclasse\n",
    "class Aviao(Veiculo):\n",
    "    \n",
    "    def acelerar(self):\n",
    "        print(\"O avião está acelerando.\")\n",
    "        \n",
    "    def frear(self):\n",
    "        print(\"O avião está freando.\")\n",
    "        \n",
    "    def decolar(self):\n",
    "        print(\"O avião está decolando.\")"
   ]
  },
  {
   "cell_type": "code",
   "execution_count": 7,
   "id": "4b96cf16",
   "metadata": {},
   "outputs": [],
   "source": [
    "# Cria os objetos \n",
    "lista_veiculos = [Carro(\"porshe\", \"911 Turbo\"), Moto(\"Honda\", \"CYX\"), Aviao(\"Boeing\", \"737\")]"
   ]
  },
  {
   "cell_type": "code",
   "execution_count": 8,
   "id": "1bb82c3c",
   "metadata": {},
   "outputs": [
    {
     "name": "stdout",
     "output_type": "stream",
     "text": [
      "O carro está acelerando.\n",
      "O carro está freando.\n",
      "----\n",
      "A moto está acelerando.\n",
      "A moto está freando.\n",
      "----\n",
      "O avião está acelerando.\n",
      "O avião está freando.\n",
      "O avião está decolando.\n",
      "----\n"
     ]
    }
   ],
   "source": [
    "# Loop\n",
    "\n",
    "for item in lista_veiculos:\n",
    "    \n",
    "    # O método acelerar tem comportamento diferente dependendo do tipo de objeto\n",
    "    item.acelerar()\n",
    "    \n",
    "    # O método frear tem comportamento diferente dependendo do tipo de objeto\n",
    "    item.frear()\n",
    "    \n",
    "    # Executamos o método decolar somente se o objeto for instancia da classe Aviao\n",
    "    if isinstance(item, Aviao):\n",
    "        item.decolar()\n",
    "        \n",
    "    print(\"----\")"
   ]
  }
 ],
 "metadata": {
  "kernelspec": {
   "display_name": "Python 3 (ipykernel)",
   "language": "python",
   "name": "python3"
  },
  "language_info": {
   "codemirror_mode": {
    "name": "ipython",
    "version": 3
   },
   "file_extension": ".py",
   "mimetype": "text/x-python",
   "name": "python",
   "nbconvert_exporter": "python",
   "pygments_lexer": "ipython3",
   "version": "3.9.13"
  }
 },
 "nbformat": 4,
 "nbformat_minor": 5
}
